{
 "cells": [
  {
   "cell_type": "code",
   "execution_count": null,
   "metadata": {},
   "outputs": [],
   "source": [
    "import configparser\n",
    "from pathlib import Path\n",
    "from datetime import datetime\n",
    "from os import PathLike\n",
    "\n",
    "import numpy as np\n",
    "import pandas as pd\n",
    "pd.set_option('display.max_colwidth', 0)"
   ]
  },
  {
   "cell_type": "code",
   "execution_count": null,
   "metadata": {},
   "outputs": [],
   "source": [
    "def read_config(fn):\n",
    "    # reads in an ini config file, including any blank lines\n",
    "\n",
    "    # read in file, add \"Null\" to any empty inputs\n",
    "    fn = Path(fn)\n",
    "    with open(fn, 'r') as f:\n",
    "        lines = f.readlines()\n",
    "    for i, _ in enumerate(lines):\n",
    "        if lines[i][-2:] == '=\\n':\n",
    "            lines[i] = lines[i][:-1] + 'Null' + lines[i][-1]\n",
    "    complete_fn = fn.parent / (fn.stem + '_complete.eddypro')\n",
    "    with open(complete_fn, 'w') as f:\n",
    "        for ln in lines:\n",
    "            f.write(ln)\n",
    "\n",
    "    ini = configparser.ConfigParser()\n",
    "    ini.read(complete_fn)\n",
    "    return ini\n",
    "\n",
    "def read_config_as_dataframe(fn):\n",
    "    lines = []\n",
    "    ini = read_config(fn)\n",
    "    for section in ini.sections():\n",
    "        for option, value, in ini[section].items():\n",
    "            lines.append([section, option, value])\n",
    "    df = pd.DataFrame(lines, columns=['Section', 'Option', 'Value'])\n",
    "    df = df.sort_values(['Section', 'Option'])\n",
    "    df['Name'] = fn.stem\n",
    "    return df\n",
    "\n",
    "def compare_configs(df1: pd.DataFrame, df2: pd.DataFrame):\n",
    "    # compare differences between two config dataframe\n",
    "    df1_new = df1.loc[df1['Value'] != df2['Value'], ['Section', 'Option', 'Value']]\n",
    "    df2_new = df2.loc[df1['Value'] != df2['Value'], ['Section', 'Option', 'Value']]\n",
    "    name1 = df1['Name'].values[0]\n",
    "    name2 = df2['Name'].values[0]\n",
    "    df_compare = (\n",
    "        df1_new\n",
    "        .merge(df2_new, on=['Section', 'Option'], suffixes=['_'+name1, '_'+name2])\n",
    "        .sort_values(['Section', 'Option'])\n",
    "    )\n",
    "    return df_compare"
   ]
  },
  {
   "cell_type": "code",
   "execution_count": null,
   "metadata": {},
   "outputs": [],
   "source": [
    "environment = Path('/Users/alex/Documents/Work/UWyo/Research/Flux Pipeline Project/Eddypro-ec-testing/investigate_eddypro')"
   ]
  },
  {
   "cell_type": "markdown",
   "metadata": {},
   "source": [
    "# When we hit buttons in EddyPro, what settings change in the .ini file?\n"
   ]
  },
  {
   "cell_type": "markdown",
   "metadata": {},
   "source": [
    "## Set up a template\n",
    "First, we create a reference .eddypro file. This file will have all the default processing settings.\n",
    "\n",
    "Note that EddyPro will leave some options blank"
   ]
  },
  {
   "cell_type": "code",
   "execution_count": null,
   "metadata": {},
   "outputs": [],
   "source": [
    "base = read_config_as_dataframe(environment / 'ini/base.eddypro')\n",
    "base.head()"
   ]
  },
  {
   "cell_type": "markdown",
   "metadata": {},
   "source": [
    "## Basic Settings\n",
    "### Changing dates\n",
    "change **Basic-Settings/Start** and **Basic-Settings/End**"
   ]
  },
  {
   "cell_type": "code",
   "execution_count": null,
   "metadata": {},
   "outputs": [],
   "source": [
    "change_dates = read_config_as_dataframe(environment / 'ini/change_dates.eddypro')\n",
    "compare_configs(base, change_dates)"
   ]
  },
  {
   "cell_type": "markdown",
   "metadata": {},
   "source": [
    "other than trivial changes and housekeeping changes like file_name, last_change_date, and project_id, the only changed settings are the start and end times and dates, as expected:\n",
    "\n",
    "These are pretty self-explanatory:\n",
    "* Project/pr_end_time\n",
    "* Project/pr_start_time\n",
    "* Project/pr_end_date\n",
    "* Project/pr_start_date"
   ]
  },
  {
   "cell_type": "markdown",
   "metadata": {},
   "source": [
    "### Missing Samples Allowance and Flux Averaging Interval\n",
    "Change **Basic-Settings/Missing-Samples-Allowance** and **Basic-Settings/Flux-Averaging-Interval**"
   ]
  },
  {
   "cell_type": "code",
   "execution_count": null,
   "metadata": {},
   "outputs": [],
   "source": [
    "compare_configs(\n",
    "    base, \n",
    "    read_config_as_dataframe(environment / 'ini/missing-avgint.eddypro')\n",
    ")\n"
   ]
  },
  {
   "cell_type": "markdown",
   "metadata": {},
   "source": [
    "Changes to INI file:\n",
    "* RawProcess_Settings/avrg_len: averaging interval \n",
    "* RawProcess_Settings/max_lack: maximum % missing values"
   ]
  },
  {
   "cell_type": "markdown",
   "metadata": {},
   "source": [
    "### North Reference\n",
    "Change **Basic-Settings/North-Reference** to Geographic North, but don't change "
   ]
  },
  {
   "cell_type": "code",
   "execution_count": null,
   "metadata": {},
   "outputs": [],
   "source": [
    "compare_configs(\n",
    "    base, \n",
    "    read_config_as_dataframe(environment / 'ini/northref.eddypro')\n",
    ")"
   ]
  },
  {
   "cell_type": "markdown",
   "metadata": {},
   "source": [
    "* RawProcess_General/dec_date (yyyy-mm-dd)\n",
    "* RawProcess_General/mag_dec (decimal declination)\n",
    "* RawProcess_General/use_geo_north (0 -> 1)\n",
    "* TiltCorrection_Settings/pf_end_time (23:30 -> 00:00??, ignoring for now)"
   ]
  },
  {
   "cell_type": "markdown",
   "metadata": {},
   "source": [
    "### Wind speed measurement offsets\n",
    "Change **Advanced-Settings/Wind-Speed-Measurement-Offsets**"
   ]
  },
  {
   "cell_type": "code",
   "execution_count": null,
   "metadata": {},
   "outputs": [],
   "source": [
    "compare_configs(\n",
    "    base, \n",
    "    read_config_as_dataframe(environment / 'ini/windspeedoffsets.eddypro')\n",
    ")"
   ]
  },
  {
   "cell_type": "markdown",
   "metadata": {},
   "source": [
    "### Axis rotations for tilt correction"
   ]
  },
  {
   "cell_type": "markdown",
   "metadata": {},
   "source": [
    "Unticking tilt corrections: rot_meth=0\n",
    "\n",
    "Selecting triple rotations: rot_meth=2\n",
    "\n",
    "Selecting double rotations: rot_meth=1\n",
    "\n",
    "Selecting planar fit with a provided file: rot_meth=3, RawProcess_TiltCorrection_Settings/pf_mode = 0, pf_file=filepath\n",
    "\n",
    "Selecting planar fit (no v bias) with a provided file: rot_meth=4, RawProcess_TiltCorrection_Settings/pf_mode = 0, pf_file=filepath"
   ]
  },
  {
   "cell_type": "markdown",
   "metadata": {},
   "source": [
    "When providing planar fit settings manually, change the following in RawProcess_TiltCorrection_Settings\n",
    "\n",
    "* pf_start/end_date/time\n",
    "* pf_subset: 1???\n",
    "* pf_mode: 1 for manual, 0 for file\n",
    "* pf_u_min: minimum mean horizontal windspeed [0, 10]\n",
    "* pf_w_max: maximum mean vertical windspeed (0, 10]\n",
    "* pf_min_num_per_sec: minimum elements per sector [0, 9999]\n",
    "* pf_fix: what to do if calculations fail for a sector (closest clockwise 0, closest ccw 1, dr 2)\n",
    "* pf_north_offset: north offset for minimum azimuth of first sector\n",
    "* sectors: n goes from 1 to max of 10\n",
    "  * pf_sector_n_exclude: 1 to ignore for PF, 0 to use for PF\n",
    "  * pf_sector_n_width: degrees, from 1 to 359"
   ]
  },
  {
   "cell_type": "markdown",
   "metadata": {},
   "source": [
    "### Extracting Turbulent Fluctuations\n",
    "This one is in **Advanced-Settings/Processing/Turbulent-fluctuations** and is pretty simple:\n",
    "\n",
    "RawProcess_Settings/detrend_meth: 0 (block avg), 1 (linear detrending), 2 (running mean), 3 (exponential running mean)\n",
    "\n",
    "RawProcess_Settings/timeconst: 0 gives same as flux averaging interval, otherwise units are seconds."
   ]
  },
  {
   "cell_type": "markdown",
   "metadata": {},
   "source": [
    "### Time lags compensation\n",
    "Manually configuring auto-optimization"
   ]
  },
  {
   "cell_type": "code",
   "execution_count": null,
   "metadata": {},
   "outputs": [],
   "source": [
    "read_config_as_dataframe(environment / 'ini/tlags_complete.eddypro').query('Section == \"RawProcess_TimelagOptimization_Settings\"').sort_values('Option')"
   ]
  },
  {
   "cell_type": "markdown",
   "metadata": {},
   "source": [
    "RawProcess_Settings/tlag_meth:\n",
    "* No compensation: tlag_meth = 0\n",
    "* Constant: tlag_meth = 1, as specified in metadata\n",
    "* Covariance maximization with default: 2\n",
    "* Naive maximization: 3\n",
    "* Automatic time lag optimization: provide a file or manually modify settings: 4\n",
    "    * provide a file:\n",
    "      * RawProcess_TimeLagOptimization_Settings to_file = path to timelag_opt output file\n",
    "      * RawProcess_TimeLagOptimization_Settings to_mode = 0\n",
    "      * RawProcess_TimeLagOptimization_Settings to_subset = 0\n",
    "    * manually input settings:\n",
    "      * RawProcess_TimeLagOptimization_Settings to_subset = 0 or 1?????\n",
    "      * RawProcess_TimeLagOptimization_Settings to_mode = 1\n",
    "      * to_co2/ch4/h2o/gas4_max/min_lag: -1000s to +1000s, max > min\n",
    "      * to_start/end_date/time\n",
    "      * etc...(FINISH)\n",
    "\n"
   ]
  },
  {
   "cell_type": "markdown",
   "metadata": {},
   "source": [
    "### Compensate Density Fluctuations\n",
    "\n",
    "Disable/enable WPL and burba corrections, and fiddle with burba settings"
   ]
  },
  {
   "cell_type": "code",
   "execution_count": null,
   "metadata": {},
   "outputs": [],
   "source": [
    "compare_configs(\n",
    "    base, \n",
    "    read_config_as_dataframe(environment / 'ini/densfluct.eddypro')\n",
    ")"
   ]
  },
  {
   "cell_type": "markdown",
   "metadata": {},
   "source": [
    "Disabling Compensate density fluctuations:\n",
    "* Project/wpl_meth 1->0\n",
    "\n",
    "Enable instr. sensible head components\n",
    "* RawProcess_Settings/bu_corr 0->1\n",
    "* Simple linear vs multiple reg: Rawprocess_settings/bu_multi 0->1\n",
    "* Changing offsets (RawProcess_Settings)\n",
    "  * l_day/night_bot/top/spar_gain/offset for simple linear\n",
    "  * m_day/night_bot/top/spar_1/2/3/4 for MLR\n",
    "\n"
   ]
  },
  {
   "cell_type": "markdown",
   "metadata": {},
   "source": [
    "### Statistical Analysis"
   ]
  },
  {
   "cell_type": "code",
   "execution_count": 74,
   "metadata": {},
   "outputs": [
    {
     "data": {
      "text/html": [
       "<div>\n",
       "<style scoped>\n",
       "    .dataframe tbody tr th:only-of-type {\n",
       "        vertical-align: middle;\n",
       "    }\n",
       "\n",
       "    .dataframe tbody tr th {\n",
       "        vertical-align: top;\n",
       "    }\n",
       "\n",
       "    .dataframe thead th {\n",
       "        text-align: right;\n",
       "    }\n",
       "</style>\n",
       "<table border=\"1\" class=\"dataframe\">\n",
       "  <thead>\n",
       "    <tr style=\"text-align: right;\">\n",
       "      <th></th>\n",
       "      <th>Section</th>\n",
       "      <th>Option</th>\n",
       "      <th>Value_base</th>\n",
       "      <th>Value_statanal</th>\n",
       "    </tr>\n",
       "  </thead>\n",
       "  <tbody>\n",
       "    <tr>\n",
       "      <th>0</th>\n",
       "      <td>Project</td>\n",
       "      <td>file_name</td>\n",
       "      <td>/Users/alex/Documents/Work/UWyo/Research/Flux Pipeline Project/Eddypro-ec-testing/investigate_eddypro/ini/base.eddypro</td>\n",
       "      <td>/Users/alex/Documents/Work/UWyo/Research/Flux Pipeline Project/Eddypro-ec-testing/investigate_eddypro/ini/statanal.eddypro</td>\n",
       "    </tr>\n",
       "    <tr>\n",
       "      <th>1</th>\n",
       "      <td>Project</td>\n",
       "      <td>last_change_date</td>\n",
       "      <td>2023-08-09T16:37:17</td>\n",
       "      <td>2023-08-10T08:16:32</td>\n",
       "    </tr>\n",
       "    <tr>\n",
       "      <th>2</th>\n",
       "      <td>Project</td>\n",
       "      <td>ru_its_meth</td>\n",
       "      <td>0</td>\n",
       "      <td>2</td>\n",
       "    </tr>\n",
       "    <tr>\n",
       "      <th>3</th>\n",
       "      <td>Project</td>\n",
       "      <td>ru_meth</td>\n",
       "      <td>0</td>\n",
       "      <td>3</td>\n",
       "    </tr>\n",
       "    <tr>\n",
       "      <th>4</th>\n",
       "      <td>Project</td>\n",
       "      <td>ru_tlag_max</td>\n",
       "      <td>10.0</td>\n",
       "      <td>0.0</td>\n",
       "    </tr>\n",
       "    <tr>\n",
       "      <th>5</th>\n",
       "      <td>RawProcess_ParameterSettings</td>\n",
       "      <td>despike_vm</td>\n",
       "      <td>0</td>\n",
       "      <td>1</td>\n",
       "    </tr>\n",
       "  </tbody>\n",
       "</table>\n",
       "</div>"
      ],
      "text/plain": [
       "                        Section            Option  \\\n",
       "0  Project                       file_name          \n",
       "1  Project                       last_change_date   \n",
       "2  Project                       ru_its_meth        \n",
       "3  Project                       ru_meth            \n",
       "4  Project                       ru_tlag_max        \n",
       "5  RawProcess_ParameterSettings  despike_vm         \n",
       "\n",
       "                                                                                                               Value_base  \\\n",
       "0  /Users/alex/Documents/Work/UWyo/Research/Flux Pipeline Project/Eddypro-ec-testing/investigate_eddypro/ini/base.eddypro   \n",
       "1  2023-08-09T16:37:17                                                                                                      \n",
       "2  0                                                                                                                        \n",
       "3  0                                                                                                                        \n",
       "4  10.0                                                                                                                     \n",
       "5  0                                                                                                                        \n",
       "\n",
       "                                                                                                               Value_statanal  \n",
       "0  /Users/alex/Documents/Work/UWyo/Research/Flux Pipeline Project/Eddypro-ec-testing/investigate_eddypro/ini/statanal.eddypro  \n",
       "1  2023-08-10T08:16:32                                                                                                         \n",
       "2  2                                                                                                                           \n",
       "3  3                                                                                                                           \n",
       "4  0.0                                                                                                                         \n",
       "5  1                                                                                                                           "
      ]
     },
     "execution_count": 74,
     "metadata": {},
     "output_type": "execute_result"
    }
   ],
   "source": [
    "compare_configs(\n",
    "    base, \n",
    "    read_config_as_dataframe(environment / 'ini/statanal.eddypro')\n",
    ")"
   ]
  },
  {
   "cell_type": "markdown",
   "metadata": {},
   "source": [
    "enabling/disabling statistical tests:\n",
    "\n",
    "* despike: RawProcess_ParameterSettings/despike_vm \n",
    "* despiking: RawProcess_Tests/test_sr 0/1\n",
    "  * when using vickers + mahrt 97: RawProcess_ParameterSettings/despike_vm = 0. 1 for mauder 2013. Confusing I know\n",
    "  * spikes: RawProcess_ParameterSettings/sr_lim_hf\n",
    "  * linterp:  RawProcess_Settings/filter_sr 1 for linterp, 0 for no linterp\n",
    "  * limits: a little complicated. basic format is sr_lim_name:\n",
    "    * w: sr_lim_w\n",
    "    * co2: sr_lim_co2\n",
    "    * h2o: sr_lim_h2o\n",
    "    * ch4: sr_lim_ch4\n",
    "    * gas4: sr_lim_n2o\n",
    "    * all other variables: sr_lim_u\n",
    "    * there's also another secret setting, sr_lim_hf that seems to be always set to 2. Perhaps leave this alone?\n",
    "  * outliers consecutive: sr_num_spk\n",
    "  * limits:\n",
    "    * accepted spikes: 0-50%\n",
    "    * consec outliers: 3-1000\n",
    "    * z-scores: 1-20\n",
    "* Abs lims RawProcess_Tests/test_al\n",
    "  * pretty straightforward: al_vanam_min/max for tson, u, w, h2o, co2, ch4, n2o (for gas4). u and v only have max\n",
    "  * RawProcess_ParameterSettings/filter_al 1 for filter outranged vals, 0 for don't filter\n",
    "  * max/min:\n",
    "    * U: 1 to 50\n",
    "    * W: 0.5 to 10\n",
    "    * T: -100 to 100\n",
    "    * CO2: 100 to 10_000\n",
    "    * H2O: 0 to 1000\n",
    "    * CH4: 0 to 1000\n",
    "    * gas4: 0 to 1000\n",
    "* Amplitude resolution: RawProcess_Tests/test_ar 0/1\n",
    "  * RawProcess_ParameterSettings/ar_bins for num bins, ar_hf_lim for % empty bins, ar_lim for range of variation\n",
    "  * Limits:\n",
    "    * Range of variation: 1-20\n",
    "    * bins: 50-150\n",
    "    * empty %: 1-100\n",
    "* Dropouts: RawProcess_Tests/test_do 0/1\n",
    "  * RawProcess_ParameterSettings/do_extlim_dw for extreme percentile\n",
    "  * RawProcess_ParameterSettings/do_hf1_lim for % central, do_hf2_lim for %extreme\n",
    "* Skewness/kurtosis: RawProcess_Tests/test_sk 0/1\n",
    "  * straightforward: RawProcess_ParameterSettings/sk_hf/sf_sk/kumin/max. hf for hard, sf for soft, sk for skew, ku for kurt.\n",
    "  * note that softflag has to be <= in magnitude than hard flag. Skewness lower must be in [-3, -0.1]. Skewness upper in [0.1, 3]. Kurt lower in [0.1, 3] and upper in [3, 10]\n",
    "* Discontinnuities: RawProcess_Tests/test_ds\n",
    "  * RawProcess_ParameterSettings/ds_hf/sf_varname, where varname is\n",
    "    * sonic t: t\n",
    "    * u: uv\n",
    "    * w: w\n",
    "    * variance: var\n",
    "    * co2/h2o/ch4/n2o\n",
    "  * limits: 0-50 for everything, with hardflag >= softflag\n",
    "* Timelags: RawProcess_Tests/test_tl\n",
    "  * nominal timelags: RawProcess_ParameterSettings/tl_def_ch4/co2/h2o/n2o\n",
    "  * flags: RawProcess_ParameterSettings/tl_hf/sf_lim\n",
    "  * note: can get nominal time lags from metadata?\n",
    "  * limits: \n",
    "    * hard > soft, 0-100%\n",
    "    * 0-100s\n",
    "* AoA: RawProcess_Tests/aa\n",
    "  * aa_lim, aa_max, aa_min\n",
    "  * aa_max, aa_min 0-90 each (-90-0 for min)\n",
    "  * 0-100%\n",
    "* Steadiness: RawProcess_ParameterSettings/test_ns\n",
    "  * RawProcess_ParameterSettings/ns_hf_lim 0-50\n",
    "* Random uncertainty: \n",
    "  * Project/ru_meth\n",
    "    * 0: none\n",
    "    * 1: Finkle\n",
    "    * 2: Mann\n",
    "    * 3: Mahrt\n",
    "  * Its def: Project/ru_its_meth\n",
    "    * 0: 1/e\n",
    "    * 1: 0-cros\n",
    "    * 2: corr period\n",
    "  * Project/ru_tlag_max for window width, 0-10_000s"
   ]
  }
 ],
 "metadata": {
  "kernelspec": {
   "display_name": "python3.11",
   "language": "python",
   "name": "python3"
  },
  "language_info": {
   "codemirror_mode": {
    "name": "ipython",
    "version": 3
   },
   "file_extension": ".py",
   "mimetype": "text/x-python",
   "name": "python",
   "nbconvert_exporter": "python",
   "pygments_lexer": "ipython3",
   "version": "3.11.3"
  },
  "orig_nbformat": 4
 },
 "nbformat": 4,
 "nbformat_minor": 2
}
