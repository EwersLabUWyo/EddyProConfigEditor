{
 "cells": [
  {
   "cell_type": "code",
   "execution_count": 14,
   "metadata": {},
   "outputs": [],
   "source": [
    "import argparse\n",
    "from pathlib import Path\n",
    "import sys\n",
    "\n",
    "wd = Path('/Users/alex/Documents/Work/UWyo/Research/Flux Pipeline Project/Eddypro-ec-testing/workflows/BB-NF_17m')\n",
    "sys.path.append('/Users/alex/Documents/Work/UWyo/Research/Flux Pipeline Project/Eddypro-ec-testing/python')\n",
    "from eddyproconfigeditor import EddyproConfigEditor"
   ]
  },
  {
   "cell_type": "code",
   "execution_count": 15,
   "metadata": {},
   "outputs": [],
   "source": [
    "arcc_wd = Path('/project/eddycovworkflow/afox18/Platinum-EddyPro7/workflow/BB-NF_17m')\n",
    "data_dir = Path('/gscratch/afox18/eddycovworkflow/InputData/Chimney')"
   ]
  },
  {
   "cell_type": "code",
   "execution_count": 16,
   "metadata": {},
   "outputs": [],
   "source": [
    "template = EddyproConfigEditor(wd / 'ini/BB-NF_17m_template.eddypro')"
   ]
  },
  {
   "cell_type": "code",
   "execution_count": 18,
   "metadata": {},
   "outputs": [
    {
     "ename": "UnboundLocalError",
     "evalue": "cannot access local variable 'subfolders' where it is not associated with a value",
     "output_type": "error",
     "traceback": [
      "\u001b[0;31m---------------------------------------------------------------------------\u001b[0m",
      "\u001b[0;31mUnboundLocalError\u001b[0m                         Traceback (most recent call last)",
      "\u001b[1;32m/Users/alex/Documents/Work/UWyo/Research/Flux Pipeline Project/Eddypro-ec-testing/workflows/BB-NF_17m/make_configs.ipynb Cell 4\u001b[0m line \u001b[0;36m2\n\u001b[1;32m      <a href='vscode-notebook-cell:/Users/alex/Documents/Work/UWyo/Research/Flux%20Pipeline%20Project/Eddypro-ec-testing/workflows/BB-NF_17m/make_configs.ipynb#W6sZmlsZQ%3D%3D?line=0'>1</a>\u001b[0m template\u001b[39m.\u001b[39mProj\u001b[39m.\u001b[39mset_metadata(arcc_wd \u001b[39m/\u001b[39m \u001b[39m'\u001b[39m\u001b[39mini/BB-NF_17m.metadata\u001b[39m\u001b[39m'\u001b[39m)\n\u001b[0;32m----> <a href='vscode-notebook-cell:/Users/alex/Documents/Work/UWyo/Research/Flux%20Pipeline%20Project/Eddypro-ec-testing/workflows/BB-NF_17m/make_configs.ipynb#W6sZmlsZQ%3D%3D?line=1'>2</a>\u001b[0m template\u001b[39m.\u001b[39;49mProj\u001b[39m.\u001b[39;49mset_biomet(data_dir \u001b[39m/\u001b[39;49m \u001b[39m'\u001b[39;49m\u001b[39mbiomet/BB-NF/EC/17m/EddyPro_Biomet\u001b[39;49m\u001b[39m'\u001b[39;49m)\n\u001b[1;32m      <a href='vscode-notebook-cell:/Users/alex/Documents/Work/UWyo/Research/Flux%20Pipeline%20Project/Eddypro-ec-testing/workflows/BB-NF_17m/make_configs.ipynb#W6sZmlsZQ%3D%3D?line=2'>3</a>\u001b[0m template\u001b[39m.\u001b[39mProj\u001b[39m.\u001b[39mset_project_name(\u001b[39m'\u001b[39m\u001b[39mBB-NF_17m\u001b[39m\u001b[39m'\u001b[39m)\n",
      "File \u001b[0;32m~/Documents/Work/UWyo/Research/Flux Pipeline Project/Eddypro-ec-testing/python/eddyproconfigeditor.py:793\u001b[0m, in \u001b[0;36mEddyproConfigEditor._Proj.set_biomet\u001b[0;34m(self, mode, path, extension, subfolders)\u001b[0m\n\u001b[1;32m    783\u001b[0m \u001b[39m\u001b[39m\u001b[39m\"\"\"\u001b[39;00m\n\u001b[1;32m    784\u001b[0m \u001b[39mset biomet file parameters\u001b[39;00m\n\u001b[1;32m    785\u001b[0m \u001b[39m\u001b[39;00m\n\u001b[0;32m   (...)\u001b[0m\n\u001b[1;32m    790\u001b[0m \u001b[39mextension: if mode='dir', the extension on the biomet files, such as 'csv', 'txt', 'dat', etc. Only required for mode='dir'. Do NOT prepend a '.' to the extension. E.g. '.csv' is INCORRECT, but 'csv' is correct.\u001b[39;00m\n\u001b[1;32m    791\u001b[0m \u001b[39msubfolder: if mode='dir', whether to search in subfolders. Only required if mode='dir'\"\"\"\u001b[39;00m\n\u001b[1;32m    792\u001b[0m history_args \u001b[39m=\u001b[39m (\u001b[39m'\u001b[39m\u001b[39mProject\u001b[39m\u001b[39m'\u001b[39m, \u001b[39m'\u001b[39m\u001b[39mbiomet\u001b[39m\u001b[39m'\u001b[39m, \u001b[39mself\u001b[39m\u001b[39m.\u001b[39mget_biomet)\n\u001b[0;32m--> 793\u001b[0m \u001b[39mself\u001b[39;49m\u001b[39m.\u001b[39;49mroot\u001b[39m.\u001b[39;49m_add_to_history(\u001b[39m*\u001b[39;49mhistory_args, \u001b[39mTrue\u001b[39;49;00m)\n\u001b[1;32m    795\u001b[0m \u001b[39massert\u001b[39;00m mode \u001b[39min\u001b[39;00m [\u001b[39m'\u001b[39m\u001b[39membedded\u001b[39m\u001b[39m'\u001b[39m, \u001b[39m'\u001b[39m\u001b[39mfile\u001b[39m\u001b[39m'\u001b[39m, \u001b[39m'\u001b[39m\u001b[39mdir\u001b[39m\u001b[39m'\u001b[39m, \u001b[39m'\u001b[39m\u001b[39mnone\u001b[39m\u001b[39m'\u001b[39m], \u001b[39m\"\u001b[39m\u001b[39mmode must be one of \u001b[39m\u001b[39m'\u001b[39m\u001b[39membedded\u001b[39m\u001b[39m'\u001b[39m\u001b[39m, \u001b[39m\u001b[39m'\u001b[39m\u001b[39mfile\u001b[39m\u001b[39m'\u001b[39m\u001b[39m, \u001b[39m\u001b[39m'\u001b[39m\u001b[39mdir\u001b[39m\u001b[39m'\u001b[39m\u001b[39m\"\u001b[39m\n\u001b[1;32m    796\u001b[0m \u001b[39mif\u001b[39;00m mode \u001b[39m==\u001b[39m \u001b[39m'\u001b[39m\u001b[39membedded\u001b[39m\u001b[39m'\u001b[39m:\n",
      "File \u001b[0;32m~/Documents/Work/UWyo/Research/Flux Pipeline Project/Eddypro-ec-testing/python/eddyproconfigeditor.py:622\u001b[0m, in \u001b[0;36mEddyproConfigEditor._add_to_history\u001b[0;34m(self, pane, setting, getter, modify_only_if_first)\u001b[0m\n\u001b[1;32m    620\u001b[0m \u001b[39mif\u001b[39;00m modify_only_if_first:\n\u001b[1;32m    621\u001b[0m     \u001b[39mif\u001b[39;00m \u001b[39mlen\u001b[39m(\u001b[39mself\u001b[39m\u001b[39m.\u001b[39mhistory[pane][setting]) \u001b[39m==\u001b[39m \u001b[39m0\u001b[39m:\n\u001b[0;32m--> 622\u001b[0m         current_setting \u001b[39m=\u001b[39m getter()\n\u001b[1;32m    623\u001b[0m         \u001b[39mself\u001b[39m\u001b[39m.\u001b[39mhistory[pane][setting]\u001b[39m.\u001b[39mappend((\u001b[39m0\u001b[39m, current_setting))\n\u001b[1;32m    624\u001b[0m     \u001b[39mreturn\u001b[39;00m\n",
      "File \u001b[0;32m~/Documents/Work/UWyo/Research/Flux Pipeline Project/Eddypro-ec-testing/python/eddyproconfigeditor.py:835\u001b[0m, in \u001b[0;36mEddyproConfigEditor._Proj.get_biomet\u001b[0;34m(self)\u001b[0m\n\u001b[1;32m    833\u001b[0m         subfolders \u001b[39m=\u001b[39m \u001b[39mbool\u001b[39m(\u001b[39mint\u001b[39m(\u001b[39mself\u001b[39m\u001b[39m.\u001b[39mroot\u001b[39m.\u001b[39mget(\u001b[39m'\u001b[39m\u001b[39mProject\u001b[39m\u001b[39m'\u001b[39m, \u001b[39m'\u001b[39m\u001b[39mbiom_rec\u001b[39m\u001b[39m'\u001b[39m)))\n\u001b[1;32m    834\u001b[0m         extension \u001b[39m=\u001b[39m \u001b[39mself\u001b[39m\u001b[39m.\u001b[39mroot\u001b[39m.\u001b[39mget(\u001b[39m'\u001b[39m\u001b[39mProject\u001b[39m\u001b[39m'\u001b[39m, \u001b[39m'\u001b[39m\u001b[39mbiom_ext\u001b[39m\u001b[39m'\u001b[39m)[\u001b[39m1\u001b[39m:]\n\u001b[0;32m--> 835\u001b[0m \u001b[39mreturn\u001b[39;00m \u001b[39mdict\u001b[39m(mode\u001b[39m=\u001b[39mmode, path\u001b[39m=\u001b[39mpath, subfolders\u001b[39m=\u001b[39msubfolders, extension\u001b[39m=\u001b[39mextension)\n",
      "\u001b[0;31mUnboundLocalError\u001b[0m: cannot access local variable 'subfolders' where it is not associated with a value"
     ]
    }
   ],
   "source": [
    "template.Proj.set_metadata(arcc_wd / 'ini/BB-NF_17m.metadata')\n",
    "template.Proj.set_biomet(data_dir / 'biomet/BB-NF/EC/17m/EddyPro_Biomet')\n",
    "template.Proj.set_project_name('BB-NF_17m')"
   ]
  },
  {
   "cell_type": "code",
   "execution_count": null,
   "metadata": {},
   "outputs": [],
   "source": [
    "template.Basic.set_raw_data(path=data_dir / 'raw/BB-NF/EC/17m/Calibrated', fmt='yyyy_mm_dd_HHMM.dat', subfolders=False)\n",
    "template.Basic.set_out_path(path=arcc_wd / 'output')\n",
    "template.Basic.set_project_date_range(start='all_available', end='all_available')\n",
    "template.Basic.set_missing_samples_allowance(pct=10)\n",
    "template.Basic.set_flux_averaging_interval(minutes=30)\n",
    "template.Basic.set_north_reference(method='mag')\n",
    "template.Basic.set_output_id(output_id='template')"
   ]
  },
  {
   "cell_type": "code",
   "execution_count": null,
   "metadata": {},
   "outputs": [],
   "source": [
    "template.Adv.Proc.set_wind_speed_measurement_offsets(0, 0, 0)\n",
    "template.Adv.Proc.set_axis_rotations_for_tilt_correction(\n",
    "    method='planar_fit',\n",
    "    configure_planar_fit_settings_kwargs=dict(\n",
    "        w_max=0.5,\n",
    "        u_min=0.5,\n",
    "        num_per_sector_min=30,\n",
    "        start='all_available',\n",
    "        end='all_available',\n",
    "        fix_method='CW',\n",
    "        north_offset=0,\n",
    "        sectors=[(False, 90)]*4\n",
    "    )\n",
    ")\n",
    "template.Adv.Proc.set_turbulent_fluctuations(detrend_method='block')\n",
    "template.Adv.Proc.set_timelag_compensations(method='covariance_maximization_with_default')\n",
    "template.Adv.Proc.set_compensation_of_density_fluctuations(\n",
    "    burba_method='multi',\n",
    "    day_bot=[3.0935, -0.0819, 0.0018, -0.3601]\n",
    "    day_top=[0.5773, -0.0107, 0.0012, -0.0914]\n",
    "    day_spar=[0.7714, -0.0154, 0.0011, -0.1164]\n",
    "    night_bot=[2.2022, -0.122, 0, -0.3001]\n",
    "    night_top=[-0.2505, -0.0303, 0, 0.0556]\n",
    "    night_spar=[0.0219, -0.0361, 0, 0.0145]\n",
    ")"
   ]
  }
 ],
 "metadata": {
  "kernelspec": {
   "display_name": "python3.11",
   "language": "python",
   "name": "python3"
  },
  "language_info": {
   "codemirror_mode": {
    "name": "ipython",
    "version": 3
   },
   "file_extension": ".py",
   "mimetype": "text/x-python",
   "name": "python",
   "nbconvert_exporter": "python",
   "pygments_lexer": "ipython3",
   "version": "3.11.3"
  }
 },
 "nbformat": 4,
 "nbformat_minor": 2
}
