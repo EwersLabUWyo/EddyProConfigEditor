{
 "cells": [
  {
   "cell_type": "code",
   "execution_count": 81,
   "metadata": {},
   "outputs": [],
   "source": [
    "import argparse\n",
    "from pathlib import Path\n",
    "import sys\n",
    "from datetime import datetime\n",
    "\n",
    "wd = Path('/Users/alex/Documents/Work/UWyo/Research/Flux Pipeline Project/Eddypro-ec-testing/workflows/BB-NF_17m')\n",
    "sys.path.append('/Users/alex/Documents/Work/UWyo/Research/Flux Pipeline Project/Eddypro-ec-testing/python')\n",
    "from eddyproconfigeditor import EddyproConfigEditor"
   ]
  },
  {
   "cell_type": "code",
   "execution_count": 82,
   "metadata": {},
   "outputs": [],
   "source": [
    "# arcc_wd = Path('/project/eddycovworkflow/afox18/Platinum-EddyPro7/workflows/BB-NF_17m')\n",
    "arcc_wd = wd\n",
    "# data_dir = Path('/gscratch/afox18/eddycovworkflow/InputData/Chimney')\n",
    "data_dir = Path('/Users/alex/Documents/Data/Platinum_EC/InputData/Chimney')\n",
    "out_dir = Path('/gscratch/afox18/eddycovworkflow/ExpectedOutputs/Chimney/BB-NF/17m')\n",
    "out_dir = Path('/Users/alex/Documents/Data/Platinum_EC/ExpectedOutputs/Chimney/17m')"
   ]
  },
  {
   "cell_type": "code",
   "execution_count": 83,
   "metadata": {},
   "outputs": [],
   "source": [
    "template = EddyproConfigEditor(wd / 'ini/BB-NF_17m_template.eddypro')"
   ]
  },
  {
   "cell_type": "code",
   "execution_count": 84,
   "metadata": {},
   "outputs": [],
   "source": [
    "# start, end = '2019-01-01 00:00', '2023-12-31 23:30'\n",
    "start, end = '2022-12-01 00:00', '2023-01-31 23:30'"
   ]
  },
  {
   "cell_type": "code",
   "execution_count": 85,
   "metadata": {},
   "outputs": [],
   "source": [
    "template.Proj.set_metadata(arcc_wd / 'ini/BB-NF_17m.metadata')\n",
    "template.Proj.set_biomet(mode='dir', path=data_dir / 'biomet/BB-NF/EC/17m/EddyPro_Biomet', extension='dat', subfolders=False)\n",
    "template.Proj.set_project_name('BB-NF_17m')"
   ]
  },
  {
   "cell_type": "code",
   "execution_count": 86,
   "metadata": {},
   "outputs": [],
   "source": [
    "template.Basic.set_raw_data(path=data_dir / 'raw/BB-NF/EC/17m/Calibrated', fmt='yyyy_mm_dd_HHMM.dat', subfolders=False)\n",
    "template.Basic.set_out_path(out_dir / 'Template')\n",
    "template.Basic.set_project_date_range(start=start, end=end)\n",
    "template.Basic.set_missing_samples_allowance(pct=10)\n",
    "template.Basic.set_flux_averaging_interval(minutes=30)\n",
    "template.Basic.set_north_reference(method='mag')\n",
    "template.Basic.set_output_id(output_id='template')"
   ]
  },
  {
   "cell_type": "code",
   "execution_count": 87,
   "metadata": {},
   "outputs": [],
   "source": [
    "template.Adv.Proc.set_wind_speed_measurement_offsets(0, 0, 0)\n",
    "template.Adv.Proc.set_axis_rotations_for_tilt_correction(\n",
    "    method='planar_fit',\n",
    "    configure_planar_fit_settings_kwargs=dict(\n",
    "        w_max=0.5,\n",
    "        u_min=0.5,\n",
    "        num_per_sector_min=30,\n",
    "        start=start,\n",
    "        end=end,\n",
    "        fix_method='CW',\n",
    "        north_offset=0,\n",
    "        sectors=[(False, 90)]*4\n",
    "    )\n",
    ")\n",
    "template.Adv.Proc.set_turbulent_fluctuations(detrend_method='block')\n",
    "template.Adv.Proc.set_timelag_compensations(method='covariance_maximization_with_default')\n",
    "template.Adv.Proc.set_compensation_of_density_fluctuations(\n",
    "    burba_method='multiple',\n",
    "    day_bot=[3.0935, -0.0819, 0.0018, -0.3601],\n",
    "    day_top=[0.5773, -0.0107, 0.0012, -0.0914],\n",
    "    day_spar=[0.7714, -0.0154, 0.0011, -0.1164],\n",
    "    night_bot=[2.2022, -0.122, 0, -0.3001],\n",
    "    night_top=[-0.2505, -0.0303, 0, 0.0556],\n",
    "    night_spar=[0.0219, -0.0361, 0, 0.0145]\n",
    ")"
   ]
  },
  {
   "cell_type": "code",
   "execution_count": 88,
   "metadata": {},
   "outputs": [],
   "source": [
    "template.Adv.Out.set_spectral_output(\n",
    "    binned_spectra=True,\n",
    "    binned_ogives=True,\n",
    "    ensemble_spectra=True,\n",
    "    full_spectra='none',\n",
    "    full_cospectra='none'\n",
    ")\n",
    "template.Adv.Out.set_chain_of_custody(\n",
    "    unprocessed='stats',\n",
    "    despiked='stats',\n",
    "    timelag_corrected='timeseries',\n",
    "    variables=['u', 'v', 'w', 'ts', 'co2', 'h2o', ]\n",
    ")"
   ]
  },
  {
   "cell_type": "code",
   "execution_count": 89,
   "metadata": {},
   "outputs": [],
   "source": [
    "# worker_windows = [datetime(y, 1, 1, 0, 0, 0) for y in range(2019, 2025)]\n",
    "worker_windows = [datetime(2022, 12, 1, 0, 0), datetime(2022, 12, 31, 0, 0), datetime(2023, 1, 31, 0, 0)]"
   ]
  },
  {
   "cell_type": "code",
   "execution_count": 90,
   "metadata": {},
   "outputs": [],
   "source": [
    "template.to_eddypro(ini_file=wd / 'ini/BB-NF_17m_template.eddypro')\n",
    "template.to_eddypro_parallel(\n",
    "    ini_dir=wd / 'ini/BB-NF_17m_template_parallel',\n",
    "    out_path=out_dir / 'Template_Parallel',\n",
    "    file_duration=1440,\n",
    "    worker_windows=worker_windows\n",
    ")"
   ]
  },
  {
   "cell_type": "code",
   "execution_count": null,
   "metadata": {},
   "outputs": [],
   "source": []
  },
  {
   "cell_type": "code",
   "execution_count": 92,
   "metadata": {},
   "outputs": [],
   "source": [
    "test = EddyproConfigEditor('/Users/alex/Documents/Work/UWyo/Research/Flux Pipeline Project/Eddypro-ec-testing/workflows/BB-NF_17m/test.ini').to_pandas()\n",
    "temp = EddyproConfigEditor('/Users/alex/Documents/Work/UWyo/Research/Flux Pipeline Project/Eddypro-ec-testing/workflows/BB-NF_17m/ini/BB-NF_17m_template.eddypro').to_pandas()"
   ]
  },
  {
   "cell_type": "code",
   "execution_count": 107,
   "metadata": {},
   "outputs": [
    {
     "data": {
      "text/plain": [
       "(                 Section             Option Value                Name\n",
       " 329  RawProcess_Settings  out_full_cosp_w_o     0  BB-NF_17m_template,\n",
       " Empty DataFrame\n",
       " Columns: [Section, Option, Value, Name]\n",
       " Index: [])"
      ]
     },
     "execution_count": 107,
     "metadata": {},
     "output_type": "execute_result"
    }
   ],
   "source": [
    "test.loc[test.Option == 'out_full_cosp_w_o'], temp.loc[temp.Option == 'out_full_cosp_w_o']"
   ]
  },
  {
   "cell_type": "code",
   "execution_count": 105,
   "metadata": {},
   "outputs": [
    {
     "data": {
      "text/plain": [
       "{'out_full_cosp_w_o'}"
      ]
     },
     "execution_count": 105,
     "metadata": {},
     "output_type": "execute_result"
    }
   ],
   "source": [
    "set(test.Option).difference(temp.Option)"
   ]
  }
 ],
 "metadata": {
  "kernelspec": {
   "display_name": "python3.11",
   "language": "python",
   "name": "python3"
  },
  "language_info": {
   "codemirror_mode": {
    "name": "ipython",
    "version": 3
   },
   "file_extension": ".py",
   "mimetype": "text/x-python",
   "name": "python",
   "nbconvert_exporter": "python",
   "pygments_lexer": "ipython3",
   "version": "3.11.3"
  }
 },
 "nbformat": 4,
 "nbformat_minor": 2
}
