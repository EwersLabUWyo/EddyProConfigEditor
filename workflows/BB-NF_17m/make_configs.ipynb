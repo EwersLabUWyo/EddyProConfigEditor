{
 "cells": [
  {
   "cell_type": "code",
   "execution_count": 56,
   "metadata": {},
   "outputs": [],
   "source": [
    "import argparse\n",
    "from pathlib import Path\n",
    "import sys\n",
    "from datetime import datetime\n",
    "\n",
    "wd = Path('/Users/alex/Documents/Work/UWyo/Research/Flux Pipeline Project/Eddypro-ec-testing/workflows/BB-NF_17m')\n",
    "sys.path.append('/Users/alex/Documents/Work/UWyo/Research/Flux Pipeline Project/Eddypro-ec-testing/python')\n",
    "from eddyproconfigeditor import EddyproConfigEditor, compare_configs"
   ]
  },
  {
   "cell_type": "code",
   "execution_count": 57,
   "metadata": {},
   "outputs": [],
   "source": [
    "arcc_wd = Path('/project/eddycovworkflow/afox18/Platinum-EddyPro7/workflows/BB-NF_17m')\n",
    "# arcc_wd = wd\n",
    "data_dir = Path('/gscratch/afox18/eddycovworkflow/InputData/Chimney')\n",
    "# data_dir = Path('/Users/alex/Documents/Data/Platinum_EC/InputData/Chimney')\n",
    "out_dir = Path('/gscratch/afox18/eddycovworkflow/ExpectedOutputs/Chimney/BB-NF/17m')\n",
    "# out_dir = Path('/Users/alex/Documents/Data/Platinum_EC/ExpectedOutputs/Chimney/17m')"
   ]
  },
  {
   "cell_type": "code",
   "execution_count": 58,
   "metadata": {},
   "outputs": [],
   "source": [
    "template = EddyproConfigEditor(wd / 'ini/BB-NF_17m_template.eddypro')"
   ]
  },
  {
   "cell_type": "code",
   "execution_count": 59,
   "metadata": {},
   "outputs": [],
   "source": [
    "start, end = '2019-01-01 00:00', '2023-12-31 23:30'\n",
    "# start, end = '2022-12-01 00:00', '2023-01-31 23:30'"
   ]
  },
  {
   "cell_type": "code",
   "execution_count": 60,
   "metadata": {},
   "outputs": [],
   "source": [
    "template.Proj.set_metadata(arcc_wd / 'ini/BB-NF_17m.metadata')\n",
    "template.Proj.set_biomet(mode='dir', path=data_dir / 'biomet/BB-NF/EC/17m/EddyPro_Biomet', extension='dat', subfolders=False)\n",
    "template.Proj.set_project_name('BB-NF_17m')"
   ]
  },
  {
   "cell_type": "code",
   "execution_count": 61,
   "metadata": {},
   "outputs": [],
   "source": [
    "template.Basic.set_raw_data(path=data_dir / 'raw/BB-NF/EC/17m/Calibrated', fmt='yyyy_mm_dd_HHMM.dat', subfolders=False)\n",
    "template.Basic.set_out_path(out_dir / 'Template')\n",
    "template.Basic.set_project_date_range(start=start, end=end)\n",
    "template.Basic.set_missing_samples_allowance(pct=10)\n",
    "template.Basic.set_flux_averaging_interval(minutes=30)\n",
    "template.Basic.set_north_reference(method='mag')\n",
    "template.Basic.set_output_id(output_id='template')"
   ]
  },
  {
   "cell_type": "code",
   "execution_count": 62,
   "metadata": {},
   "outputs": [],
   "source": [
    "template.Adv.Proc.set_wind_speed_measurement_offsets(0, 0, 0)\n",
    "template.Adv.Proc.set_axis_rotations_for_tilt_correction(\n",
    "    method='planar_fit',\n",
    "    configure_planar_fit_settings_kwargs=dict(\n",
    "        w_max=0.5,\n",
    "        u_min=0.5,\n",
    "        num_per_sector_min=30,\n",
    "        start=start,\n",
    "        end=end,\n",
    "        fix_method='CW',\n",
    "        north_offset=0,\n",
    "        sectors=[(False, 90)]*4\n",
    "    )\n",
    ")\n",
    "template.Adv.Proc.set_turbulent_fluctuations(detrend_method='block')\n",
    "template.Adv.Proc.set_timelag_compensations(method='covariance_maximization_with_default')\n",
    "template.Adv.Proc.set_compensation_of_density_fluctuations(\n",
    "    burba_method='multiple',\n",
    "    day_bot=[3.0935, -0.0819, 0.0018, -0.3601],\n",
    "    day_top=[0.5773, -0.0107, 0.0012, -0.0914],\n",
    "    day_spar=[0.7714, -0.0154, 0.0011, -0.1164],\n",
    "    night_bot=[2.2022, -0.122, 0, -0.3001],\n",
    "    night_top=[-0.2505, -0.0303, 0, 0.0556],\n",
    "    night_spar=[0.0219, -0.0361, 0, 0.0145]\n",
    ")"
   ]
  },
  {
   "cell_type": "code",
   "execution_count": 63,
   "metadata": {},
   "outputs": [],
   "source": [
    "template.Adv.Out.set_spectral_output(\n",
    "    binned_spectra=True,\n",
    "    binned_ogives=True,\n",
    "    ensemble_spectra=True,\n",
    "    full_spectra='none',\n",
    "    full_cospectra='none'\n",
    ")\n",
    "template.Adv.Out.set_chain_of_custody(\n",
    "    unprocessed='stats',\n",
    "    despiked='stats',\n",
    "    timelag_corrected='timeseries',\n",
    "    variables=['u', 'v', 'w', 'ts', 'co2', 'h2o', ]\n",
    ")"
   ]
  },
  {
   "cell_type": "code",
   "execution_count": 64,
   "metadata": {},
   "outputs": [],
   "source": [
    "worker_windows = [datetime(y, 1, 1, 0, 0, 0) for y in range(2019, 2025)]\n",
    "# worker_windows = [datetime(2022, 12, 1, 0, 0), datetime(2022, 12, 31, 0, 0), datetime(2023, 1, 31, 0, 0)]"
   ]
  },
  {
   "cell_type": "code",
   "execution_count": 65,
   "metadata": {},
   "outputs": [],
   "source": [
    "template.to_eddypro(ini_file=wd / 'ini/BB-NF_17m_template.eddypro')\n",
    "template.to_eddypro_parallel(\n",
    "    ini_dir=wd / 'ini/BB-NF_17m_template_parallel',\n",
    "    out_path=out_dir / 'Template_Parallel',\n",
    "    file_duration=1440,\n",
    "    worker_windows=worker_windows\n",
    ")"
   ]
  },
  {
   "cell_type": "code",
   "execution_count": 66,
   "metadata": {},
   "outputs": [
    {
     "data": {
      "text/plain": [
       "PosixPath('/gscratch/afox18/eddycovworkflow/ExpectedOutputs/Chimney/BB-NF/17m')"
      ]
     },
     "execution_count": 66,
     "metadata": {},
     "output_type": "execute_result"
    }
   ],
   "source": [
    "out_dir"
   ]
  },
  {
   "cell_type": "code",
   "execution_count": 67,
   "metadata": {},
   "outputs": [],
   "source": [
    "test = EddyproConfigEditor('/Users/alex/Documents/Work/UWyo/Research/Flux Pipeline Project/Eddypro-ec-testing/workflows/BB-NF_17m/test.ini').to_pandas()\n",
    "temp = EddyproConfigEditor('/Users/alex/Documents/Work/UWyo/Research/Flux Pipeline Project/Eddypro-ec-testing/workflows/BB-NF_17m/ini/BB-NF_17m_template.eddypro').to_pandas()"
   ]
  },
  {
   "cell_type": "code",
   "execution_count": 68,
   "metadata": {},
   "outputs": [
    {
     "data": {
      "text/html": [
       "<div>\n",
       "<style scoped>\n",
       "    .dataframe tbody tr th:only-of-type {\n",
       "        vertical-align: middle;\n",
       "    }\n",
       "\n",
       "    .dataframe tbody tr th {\n",
       "        vertical-align: top;\n",
       "    }\n",
       "\n",
       "    .dataframe thead th {\n",
       "        text-align: right;\n",
       "    }\n",
       "</style>\n",
       "<table border=\"1\" class=\"dataframe\">\n",
       "  <thead>\n",
       "    <tr style=\"text-align: right;\">\n",
       "      <th></th>\n",
       "      <th>Section</th>\n",
       "      <th>Option</th>\n",
       "      <th>Value_BB-NF_17m_template</th>\n",
       "      <th>Value_BB-NF_17m_template</th>\n",
       "    </tr>\n",
       "  </thead>\n",
       "  <tbody>\n",
       "    <tr>\n",
       "      <th>0</th>\n",
       "      <td>Project</td>\n",
       "      <td>biom_dir</td>\n",
       "      <td>/Users/alex/Documents/Data/Platinum_EC/InputDa...</td>\n",
       "      <td>/gscratch/afox18/eddycovworkflow/InputData/Chi...</td>\n",
       "    </tr>\n",
       "    <tr>\n",
       "      <th>1</th>\n",
       "      <td>Project</td>\n",
       "      <td>last_change_date</td>\n",
       "      <td>2023-11-15T09:01:54</td>\n",
       "      <td>2023-11-15T09:32:03</td>\n",
       "    </tr>\n",
       "    <tr>\n",
       "      <th>2</th>\n",
       "      <td>Project</td>\n",
       "      <td>out_path</td>\n",
       "      <td>/Users/alex/Documents/Data/Platinum_EC/Expecte...</td>\n",
       "      <td>/gscratch/afox18/eddycovworkflow/ExpectedOutpu...</td>\n",
       "    </tr>\n",
       "    <tr>\n",
       "      <th>3</th>\n",
       "      <td>Project</td>\n",
       "      <td>pr_end_date</td>\n",
       "      <td>2023-01-31</td>\n",
       "      <td>2023-12-31</td>\n",
       "    </tr>\n",
       "    <tr>\n",
       "      <th>4</th>\n",
       "      <td>Project</td>\n",
       "      <td>pr_start_date</td>\n",
       "      <td>2022-12-01</td>\n",
       "      <td>2019-01-01</td>\n",
       "    </tr>\n",
       "    <tr>\n",
       "      <th>5</th>\n",
       "      <td>Project</td>\n",
       "      <td>proj_file</td>\n",
       "      <td>/Users/alex/Documents/Work/UWyo/Research/Flux ...</td>\n",
       "      <td>/project/eddycovworkflow/afox18/Platinum-EddyP...</td>\n",
       "    </tr>\n",
       "    <tr>\n",
       "      <th>6</th>\n",
       "      <td>RawProcess_General</td>\n",
       "      <td>data_path</td>\n",
       "      <td>/Users/alex/Documents/Data/Platinum_EC/InputDa...</td>\n",
       "      <td>/gscratch/afox18/eddycovworkflow/InputData/Chi...</td>\n",
       "    </tr>\n",
       "    <tr>\n",
       "      <th>7</th>\n",
       "      <td>RawProcess_TiltCorrection_Settings</td>\n",
       "      <td>pf_end_date</td>\n",
       "      <td>2023-01-31</td>\n",
       "      <td>2023-12-31</td>\n",
       "    </tr>\n",
       "    <tr>\n",
       "      <th>8</th>\n",
       "      <td>RawProcess_TiltCorrection_Settings</td>\n",
       "      <td>pf_start_date</td>\n",
       "      <td>2022-12-01</td>\n",
       "      <td>2019-01-01</td>\n",
       "    </tr>\n",
       "  </tbody>\n",
       "</table>\n",
       "</div>"
      ],
      "text/plain": [
       "                              Section            Option  \\\n",
       "0                             Project          biom_dir   \n",
       "1                             Project  last_change_date   \n",
       "2                             Project          out_path   \n",
       "3                             Project       pr_end_date   \n",
       "4                             Project     pr_start_date   \n",
       "5                             Project         proj_file   \n",
       "6                  RawProcess_General         data_path   \n",
       "7  RawProcess_TiltCorrection_Settings       pf_end_date   \n",
       "8  RawProcess_TiltCorrection_Settings     pf_start_date   \n",
       "\n",
       "                            Value_BB-NF_17m_template  \\\n",
       "0  /Users/alex/Documents/Data/Platinum_EC/InputDa...   \n",
       "1                                2023-11-15T09:01:54   \n",
       "2  /Users/alex/Documents/Data/Platinum_EC/Expecte...   \n",
       "3                                         2023-01-31   \n",
       "4                                         2022-12-01   \n",
       "5  /Users/alex/Documents/Work/UWyo/Research/Flux ...   \n",
       "6  /Users/alex/Documents/Data/Platinum_EC/InputDa...   \n",
       "7                                         2023-01-31   \n",
       "8                                         2022-12-01   \n",
       "\n",
       "                            Value_BB-NF_17m_template  \n",
       "0  /gscratch/afox18/eddycovworkflow/InputData/Chi...  \n",
       "1                                2023-11-15T09:32:03  \n",
       "2  /gscratch/afox18/eddycovworkflow/ExpectedOutpu...  \n",
       "3                                         2023-12-31  \n",
       "4                                         2019-01-01  \n",
       "5  /project/eddycovworkflow/afox18/Platinum-EddyP...  \n",
       "6  /gscratch/afox18/eddycovworkflow/InputData/Chi...  \n",
       "7                                         2023-12-31  \n",
       "8                                         2019-01-01  "
      ]
     },
     "execution_count": 68,
     "metadata": {},
     "output_type": "execute_result"
    }
   ],
   "source": [
    "compare_configs(test, temp)"
   ]
  },
  {
   "cell_type": "code",
   "execution_count": 69,
   "metadata": {},
   "outputs": [
    {
     "data": {
      "text/plain": [
       "set()"
      ]
     },
     "execution_count": 69,
     "metadata": {},
     "output_type": "execute_result"
    }
   ],
   "source": [
    "set(test.Option).difference(temp.Option)"
   ]
  }
 ],
 "metadata": {
  "kernelspec": {
   "display_name": "python3.11",
   "language": "python",
   "name": "python3"
  },
  "language_info": {
   "codemirror_mode": {
    "name": "ipython",
    "version": 3
   },
   "file_extension": ".py",
   "mimetype": "text/x-python",
   "name": "python",
   "nbconvert_exporter": "python",
   "pygments_lexer": "ipython3",
   "version": "3.11.3"
  }
 },
 "nbformat": 4,
 "nbformat_minor": 2
}
