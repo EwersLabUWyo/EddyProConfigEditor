{
 "cells": [
  {
   "cell_type": "code",
   "execution_count": 78,
   "metadata": {},
   "outputs": [],
   "source": [
    "import argparse\n",
    "from pathlib import Path\n",
    "import sys\n",
    "from datetime import datetime\n",
    "from pandas import date_range\n",
    "\n",
    "sys.path.append('/Users/alex/Documents/Work/UWyo/Research/Flux Pipeline Project/Eddypro-ec-testing/python')\n",
    "from eddyproconfigeditor import EddyproConfigEditor, compare_configs\n",
    "\n",
    "wd = Path('/Users/alex/Documents/Work/UWyo/Research/Flux Pipeline Project/Eddypro-ec-testing/workflows/BB-NF_17m_Cal')\n",
    "arcc_wd = Path('/project/eddycovworkflow/afox18/Platinum-EddyPro7/workflows/BB-NF_17m_Cal')\n",
    "# arcc_wd = wd\n",
    "data_dir = Path('/gscratch/afox18/eddycovworkflow/InputData/Chimney')\n",
    "# data_dir = Path('/Users/alex/Documents/Data/Platinum_EC/InputData/Chimney')\n",
    "\n",
    "\n",
    "for method in ['nearest', 'linear']:\n",
    "    for sample in range(1, 7):  \n",
    "        # MODIFY THE OUTDIR TO REFLECT THE CALIBRATION\n",
    "        out_dir = Path(f'/gscratch/afox18/eddycovworkflow/ExpectedOutputs/Chimney/BB-NF/17m_CalibSens/{method}_{sample}')\n",
    "        # out_dir = Path('/Users/alex/Documents/Data/Platinum_EC/ExpectedOutputs/Chimney/17m')\n",
    "        template = EddyproConfigEditor(wd / 'ini/BB-NF_17m_template.eddypro')\n",
    "        start, end = '2019-01-01 00:00', '2023-12-31 23:30'\n",
    "        template.Proj.set_metadata(arcc_wd / 'ini/BB-NF_17m.metadata')\n",
    "        template.Proj.set_biomet(mode='dir', path=data_dir / 'biomet/BB-NF/EC/17m/EddyPro_Biomet', extension='dat', subfolders=False)\n",
    "        template.Proj.set_project_name('BB-NF_17m')\n",
    "        template.Basic.set_raw_data(path=data_dir / f'raw/BB-NF/EC/17m/Calibrated-{method}-{sample}', fmt='yyyy_mm_dd_HHMM.dat', subfolders=False)\n",
    "        template.Basic.set_out_path(out_dir)\n",
    "        template.Basic.set_project_date_range(start=start, end=end)\n",
    "        template.Basic.set_missing_samples_allowance(pct=10)\n",
    "        template.Basic.set_flux_averaging_interval(minutes=30)\n",
    "        template.Basic.set_north_reference(method='mag')\n",
    "        template.Basic.set_output_id(output_id=f'{method}-{sample}')\n",
    "        template.Adv.Proc.set_wind_speed_measurement_offsets(0, 0, 0)\n",
    "        # MODIFY THE PF FILE TO POINT TO THE CORRECT ONE FOR THIS YEAR...OR SOMETHING\n",
    "        template.Adv.Proc.set_axis_rotations_for_tilt_correction(\n",
    "            method='planar_fit',\n",
    "            \n",
    "            pf_file=arcc_wd / 'eddypro_template-202101010000_planar_fit.txt'\n",
    "        )\n",
    "        template.Adv.Proc.set_turbulent_fluctuations(detrend_method='block')\n",
    "        template.Adv.Proc.set_timelag_compensations(method='covariance_maximization_with_default')\n",
    "        template.Adv.Proc.set_compensation_of_density_fluctuations(\n",
    "            burba_method='multiple',\n",
    "            day_bot=[3.0935, -0.0819, 0.0018, -0.3601],\n",
    "            day_top=[0.5773, -0.0107, 0.0012, -0.0914],\n",
    "            day_spar=[0.7714, -0.0154, 0.0011, -0.1164],\n",
    "            night_bot=[2.2022, -0.122, 0, -0.3001],\n",
    "            night_top=[-0.2505, -0.0303, 0, 0.0556],\n",
    "            night_spar=[0.0219, -0.0361, 0, 0.0145]\n",
    "        )\n",
    "        template.Adv.Spec.set_calculation(binned_cosp_dir=Path('/gscratch/afox18/eddycovworkflow/ExpectedOutputs/Chimney/BB-NF/17m/Template_Parallel/eddypro_binned_cospectra'))\n",
    "        template.Adv.Out.set_spectral_output(\n",
    "            binned_spectra=True,\n",
    "            binned_ogives=True,\n",
    "            ensemble_spectra=True,\n",
    "            full_spectra='none',\n",
    "            full_cospectra='none'\n",
    "        )\n",
    "        template.Adv.Out.set_chain_of_custody(\n",
    "            unprocessed='stats',\n",
    "            despiked='stats',\n",
    "            timelag_corrected='stats',\n",
    "            variables=['u', 'v', 'w', 'ts', 'co2', 'h2o', ]\n",
    "        )\n",
    "        worker_windows = [datetime(y, 1, 1, 0, 0, 0) for y in range(2019, 2025)]\n",
    "        worker_windows = [datetime.strptime(d, '%Y-%m-%d %H:%M') for d in date_range('2018-12-01', '2024-01-01', freq='7d').strftime('%Y-%m-%d %H:%M')]\n",
    "        # worker_windows\n",
    "        # worker_windows = [datetime(2022, 12, 1, 0, 0), datetime(2022, 12, 31, 0, 0), datetime(2023, 1, 31, 0, 0)]\n",
    "        # template.to_eddypro(ini_file=wd / 'ini/BB-NF_17m_template.eddypro')\n",
    "        template.to_eddypro_parallel(\n",
    "            ini_dir=wd / 'ini/BB-NF_17m_Parallel',\n",
    "            out_path=out_dir,\n",
    "            file_duration=1440,\n",
    "            worker_windows=worker_windows\n",
    "        )"
   ]
  },
  {
   "cell_type": "code",
   "execution_count": 79,
   "metadata": {},
   "outputs": [
    {
     "data": {
      "text/plain": [
       "265"
      ]
     },
     "execution_count": 79,
     "metadata": {},
     "output_type": "execute_result"
    }
   ],
   "source": [
    "len(worker_windows) - 1"
   ]
  }
 ],
 "metadata": {
  "kernelspec": {
   "display_name": "python3.11",
   "language": "python",
   "name": "python3"
  },
  "language_info": {
   "codemirror_mode": {
    "name": "ipython",
    "version": 3
   },
   "file_extension": ".py",
   "mimetype": "text/x-python",
   "name": "python",
   "nbconvert_exporter": "python",
   "pygments_lexer": "ipython3",
   "version": "3.11.3"
  }
 },
 "nbformat": 4,
 "nbformat_minor": 2
}
